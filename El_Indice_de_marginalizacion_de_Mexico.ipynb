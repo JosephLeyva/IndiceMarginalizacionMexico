{
  "nbformat": 4,
  "nbformat_minor": 0,
  "metadata": {
    "colab": {
      "provenance": []
    },
    "kernelspec": {
      "name": "python3",
      "display_name": "Python 3"
    },
    "language_info": {
      "name": "python"
    }
  },
  "cells": [
    {
      "cell_type": "markdown",
      "source": [
        "# Proyecto: EL índice de Marginalización de México"
      ],
      "metadata": {
        "id": "e0Hjt9H7gteA"
      }
    },
    {
      "cell_type": "markdown",
      "source": [
        "Por **José Alberto Leyva Contreras**"
      ],
      "metadata": {
        "id": "y9U8rXMXg6xq"
      }
    },
    {
      "cell_type": "code",
      "execution_count": 1,
      "metadata": {
        "id": "ChfZ4tb0fILJ"
      },
      "outputs": [],
      "source": [
        "# Primero importaremos las librerías que se usan para análisis de datos y graficación\n",
        "\n",
        "import numpy as np\n",
        "import pandas as pd\n",
        "import seaborn as sns\n",
        "from matplotlib import pyplot as plt"
      ]
    },
    {
      "cell_type": "markdown",
      "source": [
        "## Descargar y leer la base de datos\n",
        "\n",
        "Para empezar, vamos a importar los datos que analizaremos el Excel descargado. Los datos se encuentran en la pestaña *IMM 2020*.\n",
        "\n",
        "Al ser un archivo en Excel (formato .xls), usaremos el método de pandas `pd.read_excel()`\n",
        "\n"
      ],
      "metadata": {
        "id": "c9s2YohNhgZH"
      }
    },
    {
      "cell_type": "code",
      "source": [
        "df = pd.read_excel('./IMM_2020.xls', sheet_name='IMM_2020')"
      ],
      "metadata": {
        "id": "SvUWFBUYhXVC"
      },
      "execution_count": 2,
      "outputs": []
    },
    {
      "cell_type": "markdown",
      "source": [
        "Si vemos por encimita el dataframe generado podemos ver los siguientes datos"
      ],
      "metadata": {
        "id": "Ip1G41afjaPx"
      }
    },
    {
      "cell_type": "code",
      "source": [
        "df.head(10)"
      ],
      "metadata": {
        "colab": {
          "base_uri": "https://localhost:8080/",
          "height": 601
        },
        "id": "TFRlW_2MjhlL",
        "outputId": "c63e29f1-32a8-4bf5-ec05-e762757bb926"
      },
      "execution_count": 3,
      "outputs": [
        {
          "output_type": "execute_result",
          "data": {
            "text/plain": [
              "   CVE_ENT         NOM_ENT  CVE_MUN              NOM_MUN  POB_TOT     ANALF  \\\n",
              "0        1  Aguascalientes     1001       Aguascalientes   948990  1.644738   \n",
              "1        1  Aguascalientes     1002             Asientos    51536  3.526405   \n",
              "2        1  Aguascalientes     1003             Calvillo    58250  4.491509   \n",
              "3        1  Aguascalientes     1004                Cosío    17000  3.144867   \n",
              "4        1  Aguascalientes     1005          Jesús María   129929  2.380588   \n",
              "5        1  Aguascalientes     1006  Pabellón de Arteaga    47646  2.732339   \n",
              "6        1  Aguascalientes     1007      Rincón de Romos    57369  3.445917   \n",
              "7        1  Aguascalientes     1008   San José de Gracia     9552  2.439773   \n",
              "8        1  Aguascalientes     1009             Tepezalá    22485  4.235219   \n",
              "9        1  Aguascalientes     1010             El Llano    20853  3.898421   \n",
              "\n",
              "       SBASC     OVSDE     OVSEE     OVSAE      OVPT       VHAC    PL.5000  \\\n",
              "0  20.367220  0.104799  0.113169  0.378610  0.591434  10.339530   7.523683   \n",
              "1  33.906364  2.650373  0.486448  0.858160  1.352430  22.942305  78.221049   \n",
              "2  42.482450  0.365177  0.516760  0.800978  1.040411  19.219858  51.301288   \n",
              "3  27.696745  0.712855  0.577354  0.659833  1.030989  22.716866  65.470588   \n",
              "4  26.692477  0.277034  0.354957  0.860426  1.312652  16.404575  37.164143   \n",
              "5  25.724280  0.541338  0.425487  1.044760  0.705635  19.075954  32.764555   \n",
              "6  27.094343  0.965870  0.501341  1.027223  1.302663  20.975502  44.285241   \n",
              "7  28.419940  2.107139  0.922529  1.708775  0.859629  21.572750  41.300251   \n",
              "8  35.086278  1.385042  0.585292  1.085694  1.429720  22.985739  76.762286   \n",
              "9  34.757713  2.321131  1.030523  1.781333  1.452547  21.816786  69.754951   \n",
              "\n",
              "       PO2SM    IM_2020   GM_2020  IMN_2020  \n",
              "0  54.226594  60.318795  Muy bajo  0.944508  \n",
              "1  78.565471  56.546071  Muy bajo  0.885433  \n",
              "2  79.259777  57.058251  Muy bajo  0.893453  \n",
              "3  81.726369  57.114030  Muy bajo  0.894326  \n",
              "4  56.748753  59.011762  Muy bajo  0.924042  \n",
              "5  64.335011  58.624768  Muy bajo  0.917982  \n",
              "6  76.643972  57.646671  Muy bajo  0.902667  \n",
              "7  75.410936  57.527531  Muy bajo  0.900801  \n",
              "8  76.943557  56.604314  Muy bajo  0.886345  \n",
              "9  76.336092  56.555794  Muy bajo  0.885585  "
            ],
            "text/html": [
              "\n",
              "  <div id=\"df-1694ffe0-1741-4d2d-a461-6b8a5a00e4a7\">\n",
              "    <div class=\"colab-df-container\">\n",
              "      <div>\n",
              "<style scoped>\n",
              "    .dataframe tbody tr th:only-of-type {\n",
              "        vertical-align: middle;\n",
              "    }\n",
              "\n",
              "    .dataframe tbody tr th {\n",
              "        vertical-align: top;\n",
              "    }\n",
              "\n",
              "    .dataframe thead th {\n",
              "        text-align: right;\n",
              "    }\n",
              "</style>\n",
              "<table border=\"1\" class=\"dataframe\">\n",
              "  <thead>\n",
              "    <tr style=\"text-align: right;\">\n",
              "      <th></th>\n",
              "      <th>CVE_ENT</th>\n",
              "      <th>NOM_ENT</th>\n",
              "      <th>CVE_MUN</th>\n",
              "      <th>NOM_MUN</th>\n",
              "      <th>POB_TOT</th>\n",
              "      <th>ANALF</th>\n",
              "      <th>SBASC</th>\n",
              "      <th>OVSDE</th>\n",
              "      <th>OVSEE</th>\n",
              "      <th>OVSAE</th>\n",
              "      <th>OVPT</th>\n",
              "      <th>VHAC</th>\n",
              "      <th>PL.5000</th>\n",
              "      <th>PO2SM</th>\n",
              "      <th>IM_2020</th>\n",
              "      <th>GM_2020</th>\n",
              "      <th>IMN_2020</th>\n",
              "    </tr>\n",
              "  </thead>\n",
              "  <tbody>\n",
              "    <tr>\n",
              "      <th>0</th>\n",
              "      <td>1</td>\n",
              "      <td>Aguascalientes</td>\n",
              "      <td>1001</td>\n",
              "      <td>Aguascalientes</td>\n",
              "      <td>948990</td>\n",
              "      <td>1.644738</td>\n",
              "      <td>20.367220</td>\n",
              "      <td>0.104799</td>\n",
              "      <td>0.113169</td>\n",
              "      <td>0.378610</td>\n",
              "      <td>0.591434</td>\n",
              "      <td>10.339530</td>\n",
              "      <td>7.523683</td>\n",
              "      <td>54.226594</td>\n",
              "      <td>60.318795</td>\n",
              "      <td>Muy bajo</td>\n",
              "      <td>0.944508</td>\n",
              "    </tr>\n",
              "    <tr>\n",
              "      <th>1</th>\n",
              "      <td>1</td>\n",
              "      <td>Aguascalientes</td>\n",
              "      <td>1002</td>\n",
              "      <td>Asientos</td>\n",
              "      <td>51536</td>\n",
              "      <td>3.526405</td>\n",
              "      <td>33.906364</td>\n",
              "      <td>2.650373</td>\n",
              "      <td>0.486448</td>\n",
              "      <td>0.858160</td>\n",
              "      <td>1.352430</td>\n",
              "      <td>22.942305</td>\n",
              "      <td>78.221049</td>\n",
              "      <td>78.565471</td>\n",
              "      <td>56.546071</td>\n",
              "      <td>Muy bajo</td>\n",
              "      <td>0.885433</td>\n",
              "    </tr>\n",
              "    <tr>\n",
              "      <th>2</th>\n",
              "      <td>1</td>\n",
              "      <td>Aguascalientes</td>\n",
              "      <td>1003</td>\n",
              "      <td>Calvillo</td>\n",
              "      <td>58250</td>\n",
              "      <td>4.491509</td>\n",
              "      <td>42.482450</td>\n",
              "      <td>0.365177</td>\n",
              "      <td>0.516760</td>\n",
              "      <td>0.800978</td>\n",
              "      <td>1.040411</td>\n",
              "      <td>19.219858</td>\n",
              "      <td>51.301288</td>\n",
              "      <td>79.259777</td>\n",
              "      <td>57.058251</td>\n",
              "      <td>Muy bajo</td>\n",
              "      <td>0.893453</td>\n",
              "    </tr>\n",
              "    <tr>\n",
              "      <th>3</th>\n",
              "      <td>1</td>\n",
              "      <td>Aguascalientes</td>\n",
              "      <td>1004</td>\n",
              "      <td>Cosío</td>\n",
              "      <td>17000</td>\n",
              "      <td>3.144867</td>\n",
              "      <td>27.696745</td>\n",
              "      <td>0.712855</td>\n",
              "      <td>0.577354</td>\n",
              "      <td>0.659833</td>\n",
              "      <td>1.030989</td>\n",
              "      <td>22.716866</td>\n",
              "      <td>65.470588</td>\n",
              "      <td>81.726369</td>\n",
              "      <td>57.114030</td>\n",
              "      <td>Muy bajo</td>\n",
              "      <td>0.894326</td>\n",
              "    </tr>\n",
              "    <tr>\n",
              "      <th>4</th>\n",
              "      <td>1</td>\n",
              "      <td>Aguascalientes</td>\n",
              "      <td>1005</td>\n",
              "      <td>Jesús María</td>\n",
              "      <td>129929</td>\n",
              "      <td>2.380588</td>\n",
              "      <td>26.692477</td>\n",
              "      <td>0.277034</td>\n",
              "      <td>0.354957</td>\n",
              "      <td>0.860426</td>\n",
              "      <td>1.312652</td>\n",
              "      <td>16.404575</td>\n",
              "      <td>37.164143</td>\n",
              "      <td>56.748753</td>\n",
              "      <td>59.011762</td>\n",
              "      <td>Muy bajo</td>\n",
              "      <td>0.924042</td>\n",
              "    </tr>\n",
              "    <tr>\n",
              "      <th>5</th>\n",
              "      <td>1</td>\n",
              "      <td>Aguascalientes</td>\n",
              "      <td>1006</td>\n",
              "      <td>Pabellón de Arteaga</td>\n",
              "      <td>47646</td>\n",
              "      <td>2.732339</td>\n",
              "      <td>25.724280</td>\n",
              "      <td>0.541338</td>\n",
              "      <td>0.425487</td>\n",
              "      <td>1.044760</td>\n",
              "      <td>0.705635</td>\n",
              "      <td>19.075954</td>\n",
              "      <td>32.764555</td>\n",
              "      <td>64.335011</td>\n",
              "      <td>58.624768</td>\n",
              "      <td>Muy bajo</td>\n",
              "      <td>0.917982</td>\n",
              "    </tr>\n",
              "    <tr>\n",
              "      <th>6</th>\n",
              "      <td>1</td>\n",
              "      <td>Aguascalientes</td>\n",
              "      <td>1007</td>\n",
              "      <td>Rincón de Romos</td>\n",
              "      <td>57369</td>\n",
              "      <td>3.445917</td>\n",
              "      <td>27.094343</td>\n",
              "      <td>0.965870</td>\n",
              "      <td>0.501341</td>\n",
              "      <td>1.027223</td>\n",
              "      <td>1.302663</td>\n",
              "      <td>20.975502</td>\n",
              "      <td>44.285241</td>\n",
              "      <td>76.643972</td>\n",
              "      <td>57.646671</td>\n",
              "      <td>Muy bajo</td>\n",
              "      <td>0.902667</td>\n",
              "    </tr>\n",
              "    <tr>\n",
              "      <th>7</th>\n",
              "      <td>1</td>\n",
              "      <td>Aguascalientes</td>\n",
              "      <td>1008</td>\n",
              "      <td>San José de Gracia</td>\n",
              "      <td>9552</td>\n",
              "      <td>2.439773</td>\n",
              "      <td>28.419940</td>\n",
              "      <td>2.107139</td>\n",
              "      <td>0.922529</td>\n",
              "      <td>1.708775</td>\n",
              "      <td>0.859629</td>\n",
              "      <td>21.572750</td>\n",
              "      <td>41.300251</td>\n",
              "      <td>75.410936</td>\n",
              "      <td>57.527531</td>\n",
              "      <td>Muy bajo</td>\n",
              "      <td>0.900801</td>\n",
              "    </tr>\n",
              "    <tr>\n",
              "      <th>8</th>\n",
              "      <td>1</td>\n",
              "      <td>Aguascalientes</td>\n",
              "      <td>1009</td>\n",
              "      <td>Tepezalá</td>\n",
              "      <td>22485</td>\n",
              "      <td>4.235219</td>\n",
              "      <td>35.086278</td>\n",
              "      <td>1.385042</td>\n",
              "      <td>0.585292</td>\n",
              "      <td>1.085694</td>\n",
              "      <td>1.429720</td>\n",
              "      <td>22.985739</td>\n",
              "      <td>76.762286</td>\n",
              "      <td>76.943557</td>\n",
              "      <td>56.604314</td>\n",
              "      <td>Muy bajo</td>\n",
              "      <td>0.886345</td>\n",
              "    </tr>\n",
              "    <tr>\n",
              "      <th>9</th>\n",
              "      <td>1</td>\n",
              "      <td>Aguascalientes</td>\n",
              "      <td>1010</td>\n",
              "      <td>El Llano</td>\n",
              "      <td>20853</td>\n",
              "      <td>3.898421</td>\n",
              "      <td>34.757713</td>\n",
              "      <td>2.321131</td>\n",
              "      <td>1.030523</td>\n",
              "      <td>1.781333</td>\n",
              "      <td>1.452547</td>\n",
              "      <td>21.816786</td>\n",
              "      <td>69.754951</td>\n",
              "      <td>76.336092</td>\n",
              "      <td>56.555794</td>\n",
              "      <td>Muy bajo</td>\n",
              "      <td>0.885585</td>\n",
              "    </tr>\n",
              "  </tbody>\n",
              "</table>\n",
              "</div>\n",
              "      <button class=\"colab-df-convert\" onclick=\"convertToInteractive('df-1694ffe0-1741-4d2d-a461-6b8a5a00e4a7')\"\n",
              "              title=\"Convert this dataframe to an interactive table.\"\n",
              "              style=\"display:none;\">\n",
              "        \n",
              "  <svg xmlns=\"http://www.w3.org/2000/svg\" height=\"24px\"viewBox=\"0 0 24 24\"\n",
              "       width=\"24px\">\n",
              "    <path d=\"M0 0h24v24H0V0z\" fill=\"none\"/>\n",
              "    <path d=\"M18.56 5.44l.94 2.06.94-2.06 2.06-.94-2.06-.94-.94-2.06-.94 2.06-2.06.94zm-11 1L8.5 8.5l.94-2.06 2.06-.94-2.06-.94L8.5 2.5l-.94 2.06-2.06.94zm10 10l.94 2.06.94-2.06 2.06-.94-2.06-.94-.94-2.06-.94 2.06-2.06.94z\"/><path d=\"M17.41 7.96l-1.37-1.37c-.4-.4-.92-.59-1.43-.59-.52 0-1.04.2-1.43.59L10.3 9.45l-7.72 7.72c-.78.78-.78 2.05 0 2.83L4 21.41c.39.39.9.59 1.41.59.51 0 1.02-.2 1.41-.59l7.78-7.78 2.81-2.81c.8-.78.8-2.07 0-2.86zM5.41 20L4 18.59l7.72-7.72 1.47 1.35L5.41 20z\"/>\n",
              "  </svg>\n",
              "      </button>\n",
              "      \n",
              "  <style>\n",
              "    .colab-df-container {\n",
              "      display:flex;\n",
              "      flex-wrap:wrap;\n",
              "      gap: 12px;\n",
              "    }\n",
              "\n",
              "    .colab-df-convert {\n",
              "      background-color: #E8F0FE;\n",
              "      border: none;\n",
              "      border-radius: 50%;\n",
              "      cursor: pointer;\n",
              "      display: none;\n",
              "      fill: #1967D2;\n",
              "      height: 32px;\n",
              "      padding: 0 0 0 0;\n",
              "      width: 32px;\n",
              "    }\n",
              "\n",
              "    .colab-df-convert:hover {\n",
              "      background-color: #E2EBFA;\n",
              "      box-shadow: 0px 1px 2px rgba(60, 64, 67, 0.3), 0px 1px 3px 1px rgba(60, 64, 67, 0.15);\n",
              "      fill: #174EA6;\n",
              "    }\n",
              "\n",
              "    [theme=dark] .colab-df-convert {\n",
              "      background-color: #3B4455;\n",
              "      fill: #D2E3FC;\n",
              "    }\n",
              "\n",
              "    [theme=dark] .colab-df-convert:hover {\n",
              "      background-color: #434B5C;\n",
              "      box-shadow: 0px 1px 3px 1px rgba(0, 0, 0, 0.15);\n",
              "      filter: drop-shadow(0px 1px 2px rgba(0, 0, 0, 0.3));\n",
              "      fill: #FFFFFF;\n",
              "    }\n",
              "  </style>\n",
              "\n",
              "      <script>\n",
              "        const buttonEl =\n",
              "          document.querySelector('#df-1694ffe0-1741-4d2d-a461-6b8a5a00e4a7 button.colab-df-convert');\n",
              "        buttonEl.style.display =\n",
              "          google.colab.kernel.accessAllowed ? 'block' : 'none';\n",
              "\n",
              "        async function convertToInteractive(key) {\n",
              "          const element = document.querySelector('#df-1694ffe0-1741-4d2d-a461-6b8a5a00e4a7');\n",
              "          const dataTable =\n",
              "            await google.colab.kernel.invokeFunction('convertToInteractive',\n",
              "                                                     [key], {});\n",
              "          if (!dataTable) return;\n",
              "\n",
              "          const docLinkHtml = 'Like what you see? Visit the ' +\n",
              "            '<a target=\"_blank\" href=https://colab.research.google.com/notebooks/data_table.ipynb>data table notebook</a>'\n",
              "            + ' to learn more about interactive tables.';\n",
              "          element.innerHTML = '';\n",
              "          dataTable['output_type'] = 'display_data';\n",
              "          await google.colab.output.renderOutput(dataTable, element);\n",
              "          const docLink = document.createElement('div');\n",
              "          docLink.innerHTML = docLinkHtml;\n",
              "          element.appendChild(docLink);\n",
              "        }\n",
              "      </script>\n",
              "    </div>\n",
              "  </div>\n",
              "  "
            ]
          },
          "metadata": {},
          "execution_count": 3
        }
      ]
    },
    {
      "cell_type": "markdown",
      "source": [
        "Si bien, vemos que hay varias columnas con -aparentemente- todos los valores son no-nulos, aún no sabemos a qué se refiere cada columna en el Dataframe. Las columnas son acrónimos de los valores que representan.\n",
        "\n",
        "Ante esto, inspeccionando el archivo Excel, observamos que existe una pestaña llamada como *Diccionario*. Dicha pestaña contiene en sus primeras dos filas valores que no necesitamos, por lo que con el parametro `header=2` decimos que vaya a la tercera fila (recordemos que Python es 0-index), y con  `index_col=0` indicamos que la primera columna sea el índice (para que así no se generen índice numéricos automáticamente) y con `nrows=17` agarramos las primeras 17 filas (omitiendo la fuente).\n",
        "\n"
      ],
      "metadata": {
        "id": "ZvDmT_GKoOwJ"
      }
    },
    {
      "cell_type": "code",
      "source": [
        "df_dict = pd.read_excel(\n",
        "      \"./IMM_2020.xls\",\n",
        "      sheet_name=\"Diccionario\",\n",
        "      header=2, \n",
        "      index_col=0,\n",
        "      nrows=17\n",
        "      )\n"
      ],
      "metadata": {
        "id": "em7I24MMpVGO"
      },
      "execution_count": 4,
      "outputs": []
    },
    {
      "cell_type": "code",
      "source": [
        "df_dict.style.set_properties(subset=['Descripción'], **{'width': '550px'})"
      ],
      "metadata": {
        "colab": {
          "base_uri": "https://localhost:8080/",
          "height": 614
        },
        "id": "Iktb_EbxrGTz",
        "outputId": "185905a9-3385-4bf1-ed27-d2e988128fd0"
      },
      "execution_count": 5,
      "outputs": [
        {
          "output_type": "execute_result",
          "data": {
            "text/plain": [
              "<pandas.io.formats.style.Styler at 0x7f6f4d29ab60>"
            ],
            "text/html": [
              "<style type=\"text/css\">\n",
              "#T_2381a_row0_col0, #T_2381a_row1_col0, #T_2381a_row2_col0, #T_2381a_row3_col0, #T_2381a_row4_col0, #T_2381a_row5_col0, #T_2381a_row6_col0, #T_2381a_row7_col0, #T_2381a_row8_col0, #T_2381a_row9_col0, #T_2381a_row10_col0, #T_2381a_row11_col0, #T_2381a_row12_col0, #T_2381a_row13_col0, #T_2381a_row14_col0, #T_2381a_row15_col0, #T_2381a_row16_col0 {\n",
              "  width: 550px;\n",
              "}\n",
              "</style>\n",
              "<table id=\"T_2381a\" class=\"dataframe\">\n",
              "  <thead>\n",
              "    <tr>\n",
              "      <th class=\"blank level0\" >&nbsp;</th>\n",
              "      <th id=\"T_2381a_level0_col0\" class=\"col_heading level0 col0\" >Descripción</th>\n",
              "    </tr>\n",
              "    <tr>\n",
              "      <th class=\"index_name level0\" >Variable</th>\n",
              "      <th class=\"blank col0\" >&nbsp;</th>\n",
              "    </tr>\n",
              "  </thead>\n",
              "  <tbody>\n",
              "    <tr>\n",
              "      <th id=\"T_2381a_level0_row0\" class=\"row_heading level0 row0\" >CVE_ENT</th>\n",
              "      <td id=\"T_2381a_row0_col0\" class=\"data row0 col0\" >Clave de entidad federativa</td>\n",
              "    </tr>\n",
              "    <tr>\n",
              "      <th id=\"T_2381a_level0_row1\" class=\"row_heading level0 row1\" >NOM_ENT</th>\n",
              "      <td id=\"T_2381a_row1_col0\" class=\"data row1 col0\" >Nombre de entidad federativa</td>\n",
              "    </tr>\n",
              "    <tr>\n",
              "      <th id=\"T_2381a_level0_row2\" class=\"row_heading level0 row2\" >CVE_MUN</th>\n",
              "      <td id=\"T_2381a_row2_col0\" class=\"data row2 col0\" >Clave del municipio</td>\n",
              "    </tr>\n",
              "    <tr>\n",
              "      <th id=\"T_2381a_level0_row3\" class=\"row_heading level0 row3\" >NOM_MUN</th>\n",
              "      <td id=\"T_2381a_row3_col0\" class=\"data row3 col0\" >Nombre del municipio</td>\n",
              "    </tr>\n",
              "    <tr>\n",
              "      <th id=\"T_2381a_level0_row4\" class=\"row_heading level0 row4\" >POB_TOT</th>\n",
              "      <td id=\"T_2381a_row4_col0\" class=\"data row4 col0\" >Población total</td>\n",
              "    </tr>\n",
              "    <tr>\n",
              "      <th id=\"T_2381a_level0_row5\" class=\"row_heading level0 row5\" >ANALF</th>\n",
              "      <td id=\"T_2381a_row5_col0\" class=\"data row5 col0\" >Porcentaje de población analfabeta de 15 años o más</td>\n",
              "    </tr>\n",
              "    <tr>\n",
              "      <th id=\"T_2381a_level0_row6\" class=\"row_heading level0 row6\" >SBASC</th>\n",
              "      <td id=\"T_2381a_row6_col0\" class=\"data row6 col0\" >Porcentaje de población de 15 años o más sin educación básica</td>\n",
              "    </tr>\n",
              "    <tr>\n",
              "      <th id=\"T_2381a_level0_row7\" class=\"row_heading level0 row7\" >OVSDE</th>\n",
              "      <td id=\"T_2381a_row7_col0\" class=\"data row7 col0\" >Porcentaje de ocupantes en viviendas particulares habitadas sin drenaje ni excusado</td>\n",
              "    </tr>\n",
              "    <tr>\n",
              "      <th id=\"T_2381a_level0_row8\" class=\"row_heading level0 row8\" >OVSEE</th>\n",
              "      <td id=\"T_2381a_row8_col0\" class=\"data row8 col0\" >Porcentaje de ocupantes en viviendas particulares habitadas sin energía eléctrica</td>\n",
              "    </tr>\n",
              "    <tr>\n",
              "      <th id=\"T_2381a_level0_row9\" class=\"row_heading level0 row9\" >OVSAE</th>\n",
              "      <td id=\"T_2381a_row9_col0\" class=\"data row9 col0\" >Porcentaje de ocupantes en viviendas particulares habitadas sin agua entubada</td>\n",
              "    </tr>\n",
              "    <tr>\n",
              "      <th id=\"T_2381a_level0_row10\" class=\"row_heading level0 row10\" >OVPT</th>\n",
              "      <td id=\"T_2381a_row10_col0\" class=\"data row10 col0\" >Porcentaje de ocupantes en viviendas particulares habitadas con piso de tierra</td>\n",
              "    </tr>\n",
              "    <tr>\n",
              "      <th id=\"T_2381a_level0_row11\" class=\"row_heading level0 row11\" >VHAC</th>\n",
              "      <td id=\"T_2381a_row11_col0\" class=\"data row11 col0\" >Porcentaje de viviendas particulares con hacinamiento</td>\n",
              "    </tr>\n",
              "    <tr>\n",
              "      <th id=\"T_2381a_level0_row12\" class=\"row_heading level0 row12\" >PL.5000</th>\n",
              "      <td id=\"T_2381a_row12_col0\" class=\"data row12 col0\" >Porcentaje de población que vive en localidades menores a 5 000 habitantes</td>\n",
              "    </tr>\n",
              "    <tr>\n",
              "      <th id=\"T_2381a_level0_row13\" class=\"row_heading level0 row13\" >PO2SM</th>\n",
              "      <td id=\"T_2381a_row13_col0\" class=\"data row13 col0\" >Porcentaje de población ocupada con ingresos de hasta 2 salarios mínimos</td>\n",
              "    </tr>\n",
              "    <tr>\n",
              "      <th id=\"T_2381a_level0_row14\" class=\"row_heading level0 row14\" >IM_2020</th>\n",
              "      <td id=\"T_2381a_row14_col0\" class=\"data row14 col0\" >Índice de marginación, 2020</td>\n",
              "    </tr>\n",
              "    <tr>\n",
              "      <th id=\"T_2381a_level0_row15\" class=\"row_heading level0 row15\" >GM_2020</th>\n",
              "      <td id=\"T_2381a_row15_col0\" class=\"data row15 col0\" >Grado de marginación, 2020</td>\n",
              "    </tr>\n",
              "    <tr>\n",
              "      <th id=\"T_2381a_level0_row16\" class=\"row_heading level0 row16\" >IMN_2020</th>\n",
              "      <td id=\"T_2381a_row16_col0\" class=\"data row16 col0\" >Índice de marginación normalizado, 2020</td>\n",
              "    </tr>\n",
              "  </tbody>\n",
              "</table>\n"
            ]
          },
          "metadata": {},
          "execution_count": 5
        }
      ]
    },
    {
      "cell_type": "markdown",
      "source": [
        "## Descripción del Dataframe (análisis exploratorio de datos rápido)"
      ],
      "metadata": {
        "id": "taGW5DOStCUB"
      }
    },
    {
      "cell_type": "markdown",
      "source": [
        "Con el método `.info()` podemos ver el tipo de dato como identifico a la columna la libería de Pandas, así como conocer valores no-nulos.\n",
        "\n",
        "Por lo tanto:\n",
        "\n"
      ],
      "metadata": {
        "id": "xFqADDCltZbc"
      }
    },
    {
      "cell_type": "code",
      "source": [
        "df.info()"
      ],
      "metadata": {
        "colab": {
          "base_uri": "https://localhost:8080/"
        },
        "id": "1U0m9qEUtSFt",
        "outputId": "2d7f5cc1-98f2-4435-8d09-b8bc98ac4432"
      },
      "execution_count": 6,
      "outputs": [
        {
          "output_type": "stream",
          "name": "stdout",
          "text": [
            "<class 'pandas.core.frame.DataFrame'>\n",
            "RangeIndex: 2469 entries, 0 to 2468\n",
            "Data columns (total 17 columns):\n",
            " #   Column    Non-Null Count  Dtype  \n",
            "---  ------    --------------  -----  \n",
            " 0   CVE_ENT   2469 non-null   int64  \n",
            " 1   NOM_ENT   2469 non-null   object \n",
            " 2   CVE_MUN   2469 non-null   int64  \n",
            " 3   NOM_MUN   2469 non-null   object \n",
            " 4   POB_TOT   2469 non-null   int64  \n",
            " 5   ANALF     2469 non-null   float64\n",
            " 6   SBASC     2469 non-null   float64\n",
            " 7   OVSDE     2469 non-null   float64\n",
            " 8   OVSEE     2469 non-null   float64\n",
            " 9   OVSAE     2469 non-null   float64\n",
            " 10  OVPT      2469 non-null   float64\n",
            " 11  VHAC      2469 non-null   float64\n",
            " 12  PL.5000   2469 non-null   float64\n",
            " 13  PO2SM     2469 non-null   float64\n",
            " 14  IM_2020   2469 non-null   float64\n",
            " 15  GM_2020   2469 non-null   object \n",
            " 16  IMN_2020  2469 non-null   float64\n",
            "dtypes: float64(11), int64(3), object(3)\n",
            "memory usage: 328.0+ KB\n"
          ]
        }
      ]
    },
    {
      "cell_type": "markdown",
      "source": [
        "Observamos que:\n",
        "1. Existen 2469 registros en la tabla\n",
        "2. Vemos que tenemos 17 características\n",
        "3. Afortunadamente, no hay valores Nulos\n",
        "4. La mayoría de las características son valores numéricos, excepto por el Nombre de la Entidad, el Nombre del Municipio y el grado de marginación\n"
      ],
      "metadata": {
        "id": "2V5Ll_4ytwuw"
      }
    },
    {
      "cell_type": "markdown",
      "source": [
        "Con el método `.describe()` podemos ver las gráficas descriptivas y medidas de tendencia central.\n",
        "\n",
        "Por lo tanto:\n",
        "\n"
      ],
      "metadata": {
        "id": "_D47fZuyutwM"
      }
    },
    {
      "cell_type": "code",
      "source": [
        "pd.options.display.float_format = \"{:.2f}\".format\n",
        "df.describe()\n"
      ],
      "metadata": {
        "colab": {
          "base_uri": "https://localhost:8080/",
          "height": 364
        },
        "id": "Qva9FjtBtvYY",
        "outputId": "2b8f0c22-fecd-4245-a027-b1be7aa2b850"
      },
      "execution_count": 7,
      "outputs": [
        {
          "output_type": "execute_result",
          "data": {
            "text/plain": [
              "       CVE_ENT  CVE_MUN    POB_TOT   ANALF   SBASC   OVSDE   OVSEE   OVSAE  \\\n",
              "count  2469.00  2469.00    2469.00 2469.00 2469.00 2469.00 2469.00 2469.00   \n",
              "mean     19.22 19324.16   51038.49   10.16   45.85    3.16    1.50    6.12   \n",
              "std       7.37  7382.89  146990.73    7.63   13.98    5.29    2.77    9.25   \n",
              "min       1.00  1001.00      81.00    0.35    5.54    0.00    0.00    0.00   \n",
              "25%      14.00 14079.00    4489.00    4.43   35.74    0.65    0.37    0.88   \n",
              "50%      20.00 20226.00   13552.00    8.20   46.34    1.43    0.83    2.45   \n",
              "75%      24.00 24027.00   35284.00   13.79   55.86    3.34    1.68    7.29   \n",
              "max      32.00 32058.00 1922523.00   53.07   88.33   64.45   53.07   81.79   \n",
              "\n",
              "         OVPT    VHAC  PL.5000   PO2SM  IM_2020  IMN_2020  \n",
              "count 2469.00 2469.00  2469.00 2469.00  2469.00   2469.00  \n",
              "mean     7.99   26.57    69.90   82.14    53.96      0.84  \n",
              "std      8.97   10.59    35.27   11.83     3.90      0.06  \n",
              "min      0.00    3.95     0.00   28.45    21.41      0.34  \n",
              "25%      1.65   18.73    40.13   74.62    51.84      0.81  \n",
              "50%      4.71   25.00   100.00   84.64    54.42      0.85  \n",
              "75%     11.03   32.82   100.00   91.62    56.70      0.89  \n",
              "max     68.15   69.56   100.00  100.00    62.40      0.98  "
            ],
            "text/html": [
              "\n",
              "  <div id=\"df-f175005b-e1be-4150-a5b7-2bc098e53c52\">\n",
              "    <div class=\"colab-df-container\">\n",
              "      <div>\n",
              "<style scoped>\n",
              "    .dataframe tbody tr th:only-of-type {\n",
              "        vertical-align: middle;\n",
              "    }\n",
              "\n",
              "    .dataframe tbody tr th {\n",
              "        vertical-align: top;\n",
              "    }\n",
              "\n",
              "    .dataframe thead th {\n",
              "        text-align: right;\n",
              "    }\n",
              "</style>\n",
              "<table border=\"1\" class=\"dataframe\">\n",
              "  <thead>\n",
              "    <tr style=\"text-align: right;\">\n",
              "      <th></th>\n",
              "      <th>CVE_ENT</th>\n",
              "      <th>CVE_MUN</th>\n",
              "      <th>POB_TOT</th>\n",
              "      <th>ANALF</th>\n",
              "      <th>SBASC</th>\n",
              "      <th>OVSDE</th>\n",
              "      <th>OVSEE</th>\n",
              "      <th>OVSAE</th>\n",
              "      <th>OVPT</th>\n",
              "      <th>VHAC</th>\n",
              "      <th>PL.5000</th>\n",
              "      <th>PO2SM</th>\n",
              "      <th>IM_2020</th>\n",
              "      <th>IMN_2020</th>\n",
              "    </tr>\n",
              "  </thead>\n",
              "  <tbody>\n",
              "    <tr>\n",
              "      <th>count</th>\n",
              "      <td>2469.00</td>\n",
              "      <td>2469.00</td>\n",
              "      <td>2469.00</td>\n",
              "      <td>2469.00</td>\n",
              "      <td>2469.00</td>\n",
              "      <td>2469.00</td>\n",
              "      <td>2469.00</td>\n",
              "      <td>2469.00</td>\n",
              "      <td>2469.00</td>\n",
              "      <td>2469.00</td>\n",
              "      <td>2469.00</td>\n",
              "      <td>2469.00</td>\n",
              "      <td>2469.00</td>\n",
              "      <td>2469.00</td>\n",
              "    </tr>\n",
              "    <tr>\n",
              "      <th>mean</th>\n",
              "      <td>19.22</td>\n",
              "      <td>19324.16</td>\n",
              "      <td>51038.49</td>\n",
              "      <td>10.16</td>\n",
              "      <td>45.85</td>\n",
              "      <td>3.16</td>\n",
              "      <td>1.50</td>\n",
              "      <td>6.12</td>\n",
              "      <td>7.99</td>\n",
              "      <td>26.57</td>\n",
              "      <td>69.90</td>\n",
              "      <td>82.14</td>\n",
              "      <td>53.96</td>\n",
              "      <td>0.84</td>\n",
              "    </tr>\n",
              "    <tr>\n",
              "      <th>std</th>\n",
              "      <td>7.37</td>\n",
              "      <td>7382.89</td>\n",
              "      <td>146990.73</td>\n",
              "      <td>7.63</td>\n",
              "      <td>13.98</td>\n",
              "      <td>5.29</td>\n",
              "      <td>2.77</td>\n",
              "      <td>9.25</td>\n",
              "      <td>8.97</td>\n",
              "      <td>10.59</td>\n",
              "      <td>35.27</td>\n",
              "      <td>11.83</td>\n",
              "      <td>3.90</td>\n",
              "      <td>0.06</td>\n",
              "    </tr>\n",
              "    <tr>\n",
              "      <th>min</th>\n",
              "      <td>1.00</td>\n",
              "      <td>1001.00</td>\n",
              "      <td>81.00</td>\n",
              "      <td>0.35</td>\n",
              "      <td>5.54</td>\n",
              "      <td>0.00</td>\n",
              "      <td>0.00</td>\n",
              "      <td>0.00</td>\n",
              "      <td>0.00</td>\n",
              "      <td>3.95</td>\n",
              "      <td>0.00</td>\n",
              "      <td>28.45</td>\n",
              "      <td>21.41</td>\n",
              "      <td>0.34</td>\n",
              "    </tr>\n",
              "    <tr>\n",
              "      <th>25%</th>\n",
              "      <td>14.00</td>\n",
              "      <td>14079.00</td>\n",
              "      <td>4489.00</td>\n",
              "      <td>4.43</td>\n",
              "      <td>35.74</td>\n",
              "      <td>0.65</td>\n",
              "      <td>0.37</td>\n",
              "      <td>0.88</td>\n",
              "      <td>1.65</td>\n",
              "      <td>18.73</td>\n",
              "      <td>40.13</td>\n",
              "      <td>74.62</td>\n",
              "      <td>51.84</td>\n",
              "      <td>0.81</td>\n",
              "    </tr>\n",
              "    <tr>\n",
              "      <th>50%</th>\n",
              "      <td>20.00</td>\n",
              "      <td>20226.00</td>\n",
              "      <td>13552.00</td>\n",
              "      <td>8.20</td>\n",
              "      <td>46.34</td>\n",
              "      <td>1.43</td>\n",
              "      <td>0.83</td>\n",
              "      <td>2.45</td>\n",
              "      <td>4.71</td>\n",
              "      <td>25.00</td>\n",
              "      <td>100.00</td>\n",
              "      <td>84.64</td>\n",
              "      <td>54.42</td>\n",
              "      <td>0.85</td>\n",
              "    </tr>\n",
              "    <tr>\n",
              "      <th>75%</th>\n",
              "      <td>24.00</td>\n",
              "      <td>24027.00</td>\n",
              "      <td>35284.00</td>\n",
              "      <td>13.79</td>\n",
              "      <td>55.86</td>\n",
              "      <td>3.34</td>\n",
              "      <td>1.68</td>\n",
              "      <td>7.29</td>\n",
              "      <td>11.03</td>\n",
              "      <td>32.82</td>\n",
              "      <td>100.00</td>\n",
              "      <td>91.62</td>\n",
              "      <td>56.70</td>\n",
              "      <td>0.89</td>\n",
              "    </tr>\n",
              "    <tr>\n",
              "      <th>max</th>\n",
              "      <td>32.00</td>\n",
              "      <td>32058.00</td>\n",
              "      <td>1922523.00</td>\n",
              "      <td>53.07</td>\n",
              "      <td>88.33</td>\n",
              "      <td>64.45</td>\n",
              "      <td>53.07</td>\n",
              "      <td>81.79</td>\n",
              "      <td>68.15</td>\n",
              "      <td>69.56</td>\n",
              "      <td>100.00</td>\n",
              "      <td>100.00</td>\n",
              "      <td>62.40</td>\n",
              "      <td>0.98</td>\n",
              "    </tr>\n",
              "  </tbody>\n",
              "</table>\n",
              "</div>\n",
              "      <button class=\"colab-df-convert\" onclick=\"convertToInteractive('df-f175005b-e1be-4150-a5b7-2bc098e53c52')\"\n",
              "              title=\"Convert this dataframe to an interactive table.\"\n",
              "              style=\"display:none;\">\n",
              "        \n",
              "  <svg xmlns=\"http://www.w3.org/2000/svg\" height=\"24px\"viewBox=\"0 0 24 24\"\n",
              "       width=\"24px\">\n",
              "    <path d=\"M0 0h24v24H0V0z\" fill=\"none\"/>\n",
              "    <path d=\"M18.56 5.44l.94 2.06.94-2.06 2.06-.94-2.06-.94-.94-2.06-.94 2.06-2.06.94zm-11 1L8.5 8.5l.94-2.06 2.06-.94-2.06-.94L8.5 2.5l-.94 2.06-2.06.94zm10 10l.94 2.06.94-2.06 2.06-.94-2.06-.94-.94-2.06-.94 2.06-2.06.94z\"/><path d=\"M17.41 7.96l-1.37-1.37c-.4-.4-.92-.59-1.43-.59-.52 0-1.04.2-1.43.59L10.3 9.45l-7.72 7.72c-.78.78-.78 2.05 0 2.83L4 21.41c.39.39.9.59 1.41.59.51 0 1.02-.2 1.41-.59l7.78-7.78 2.81-2.81c.8-.78.8-2.07 0-2.86zM5.41 20L4 18.59l7.72-7.72 1.47 1.35L5.41 20z\"/>\n",
              "  </svg>\n",
              "      </button>\n",
              "      \n",
              "  <style>\n",
              "    .colab-df-container {\n",
              "      display:flex;\n",
              "      flex-wrap:wrap;\n",
              "      gap: 12px;\n",
              "    }\n",
              "\n",
              "    .colab-df-convert {\n",
              "      background-color: #E8F0FE;\n",
              "      border: none;\n",
              "      border-radius: 50%;\n",
              "      cursor: pointer;\n",
              "      display: none;\n",
              "      fill: #1967D2;\n",
              "      height: 32px;\n",
              "      padding: 0 0 0 0;\n",
              "      width: 32px;\n",
              "    }\n",
              "\n",
              "    .colab-df-convert:hover {\n",
              "      background-color: #E2EBFA;\n",
              "      box-shadow: 0px 1px 2px rgba(60, 64, 67, 0.3), 0px 1px 3px 1px rgba(60, 64, 67, 0.15);\n",
              "      fill: #174EA6;\n",
              "    }\n",
              "\n",
              "    [theme=dark] .colab-df-convert {\n",
              "      background-color: #3B4455;\n",
              "      fill: #D2E3FC;\n",
              "    }\n",
              "\n",
              "    [theme=dark] .colab-df-convert:hover {\n",
              "      background-color: #434B5C;\n",
              "      box-shadow: 0px 1px 3px 1px rgba(0, 0, 0, 0.15);\n",
              "      filter: drop-shadow(0px 1px 2px rgba(0, 0, 0, 0.3));\n",
              "      fill: #FFFFFF;\n",
              "    }\n",
              "  </style>\n",
              "\n",
              "      <script>\n",
              "        const buttonEl =\n",
              "          document.querySelector('#df-f175005b-e1be-4150-a5b7-2bc098e53c52 button.colab-df-convert');\n",
              "        buttonEl.style.display =\n",
              "          google.colab.kernel.accessAllowed ? 'block' : 'none';\n",
              "\n",
              "        async function convertToInteractive(key) {\n",
              "          const element = document.querySelector('#df-f175005b-e1be-4150-a5b7-2bc098e53c52');\n",
              "          const dataTable =\n",
              "            await google.colab.kernel.invokeFunction('convertToInteractive',\n",
              "                                                     [key], {});\n",
              "          if (!dataTable) return;\n",
              "\n",
              "          const docLinkHtml = 'Like what you see? Visit the ' +\n",
              "            '<a target=\"_blank\" href=https://colab.research.google.com/notebooks/data_table.ipynb>data table notebook</a>'\n",
              "            + ' to learn more about interactive tables.';\n",
              "          element.innerHTML = '';\n",
              "          dataTable['output_type'] = 'display_data';\n",
              "          await google.colab.output.renderOutput(dataTable, element);\n",
              "          const docLink = document.createElement('div');\n",
              "          docLink.innerHTML = docLinkHtml;\n",
              "          element.appendChild(docLink);\n",
              "        }\n",
              "      </script>\n",
              "    </div>\n",
              "  </div>\n",
              "  "
            ]
          },
          "metadata": {},
          "execution_count": 7
        }
      ]
    },
    {
      "cell_type": "markdown",
      "source": [
        "Ante esto, podemos ver que:\n",
        "\n",
        "1. En promedio, el 10% de la población mayor a 15 años es analfabeta.\n",
        "2.Existe un municipio donde el 53% (más de la mitad) de la población mayor a 15 años es analfabeta.\n",
        "3. En promedio, casi la mitad (45%) de la población de 15 años o más no cuenta con educación básica.\n",
        "4. Existe un municipio donde el 90% de la población mayor a 15 años está sin educación básica (lo cual es demasidado).\n",
        "5. Existe un municipio donde el 64% de la población no cuenta con drenaje ni escusado.\n",
        "6. En promedio, el 82% de población ocupada por municipio cuenta con ingresos de hasta 2 salarios mínimo, y existe un municipio donde todos (100%) cuentan sólo con ese salario.\n",
        "7. En promedio, el 26% de las viviendas se encuentran en hacinamiento (no hay espacio para albergar a todos los que viven ahí) :(\n",
        "\n",
        "  "
      ],
      "metadata": {
        "id": "OqJHo5xWveLO"
      }
    },
    {
      "cell_type": "markdown",
      "source": [
        "## Gráfica de Porcentajes por Grado de Marginación"
      ],
      "metadata": {
        "id": "1o6KPSkLy8YU"
      }
    },
    {
      "cell_type": "markdown",
      "source": [
        "Ahora realizaremos una gráfica que permita ver el porcentaje de municipios por estado con índices de marginación"
      ],
      "metadata": {
        "id": "6oeJfGuKzPMd"
      }
    },
    {
      "cell_type": "code",
      "source": [
        "# Primero veamos las columnas que necesitamos\n",
        "df[['IMN_2020','GM_2020','NOM_MUN']]"
      ],
      "metadata": {
        "colab": {
          "base_uri": "https://localhost:8080/",
          "height": 424
        },
        "id": "nDCCPOqjy0D1",
        "outputId": "2aa03f01-c95d-4ce6-fc26-cd63475e7b92"
      },
      "execution_count": 8,
      "outputs": [
        {
          "output_type": "execute_result",
          "data": {
            "text/plain": [
              "      IMN_2020   GM_2020                NOM_MUN\n",
              "0         0.94  Muy bajo         Aguascalientes\n",
              "1         0.89  Muy bajo               Asientos\n",
              "2         0.89  Muy bajo               Calvillo\n",
              "3         0.89  Muy bajo                  Cosío\n",
              "4         0.92  Muy bajo            Jesús María\n",
              "...        ...       ...                    ...\n",
              "2464      0.86      Bajo          Villa Hidalgo\n",
              "2465      0.89  Muy bajo             Villanueva\n",
              "2466      0.94  Muy bajo              Zacatecas\n",
              "2467      0.89  Muy bajo               Trancoso\n",
              "2468      0.88      Bajo  Santa María de la Paz\n",
              "\n",
              "[2469 rows x 3 columns]"
            ],
            "text/html": [
              "\n",
              "  <div id=\"df-d66e89cc-ecf1-470e-9768-60cdb7b3ecd2\">\n",
              "    <div class=\"colab-df-container\">\n",
              "      <div>\n",
              "<style scoped>\n",
              "    .dataframe tbody tr th:only-of-type {\n",
              "        vertical-align: middle;\n",
              "    }\n",
              "\n",
              "    .dataframe tbody tr th {\n",
              "        vertical-align: top;\n",
              "    }\n",
              "\n",
              "    .dataframe thead th {\n",
              "        text-align: right;\n",
              "    }\n",
              "</style>\n",
              "<table border=\"1\" class=\"dataframe\">\n",
              "  <thead>\n",
              "    <tr style=\"text-align: right;\">\n",
              "      <th></th>\n",
              "      <th>IMN_2020</th>\n",
              "      <th>GM_2020</th>\n",
              "      <th>NOM_MUN</th>\n",
              "    </tr>\n",
              "  </thead>\n",
              "  <tbody>\n",
              "    <tr>\n",
              "      <th>0</th>\n",
              "      <td>0.94</td>\n",
              "      <td>Muy bajo</td>\n",
              "      <td>Aguascalientes</td>\n",
              "    </tr>\n",
              "    <tr>\n",
              "      <th>1</th>\n",
              "      <td>0.89</td>\n",
              "      <td>Muy bajo</td>\n",
              "      <td>Asientos</td>\n",
              "    </tr>\n",
              "    <tr>\n",
              "      <th>2</th>\n",
              "      <td>0.89</td>\n",
              "      <td>Muy bajo</td>\n",
              "      <td>Calvillo</td>\n",
              "    </tr>\n",
              "    <tr>\n",
              "      <th>3</th>\n",
              "      <td>0.89</td>\n",
              "      <td>Muy bajo</td>\n",
              "      <td>Cosío</td>\n",
              "    </tr>\n",
              "    <tr>\n",
              "      <th>4</th>\n",
              "      <td>0.92</td>\n",
              "      <td>Muy bajo</td>\n",
              "      <td>Jesús María</td>\n",
              "    </tr>\n",
              "    <tr>\n",
              "      <th>...</th>\n",
              "      <td>...</td>\n",
              "      <td>...</td>\n",
              "      <td>...</td>\n",
              "    </tr>\n",
              "    <tr>\n",
              "      <th>2464</th>\n",
              "      <td>0.86</td>\n",
              "      <td>Bajo</td>\n",
              "      <td>Villa Hidalgo</td>\n",
              "    </tr>\n",
              "    <tr>\n",
              "      <th>2465</th>\n",
              "      <td>0.89</td>\n",
              "      <td>Muy bajo</td>\n",
              "      <td>Villanueva</td>\n",
              "    </tr>\n",
              "    <tr>\n",
              "      <th>2466</th>\n",
              "      <td>0.94</td>\n",
              "      <td>Muy bajo</td>\n",
              "      <td>Zacatecas</td>\n",
              "    </tr>\n",
              "    <tr>\n",
              "      <th>2467</th>\n",
              "      <td>0.89</td>\n",
              "      <td>Muy bajo</td>\n",
              "      <td>Trancoso</td>\n",
              "    </tr>\n",
              "    <tr>\n",
              "      <th>2468</th>\n",
              "      <td>0.88</td>\n",
              "      <td>Bajo</td>\n",
              "      <td>Santa María de la Paz</td>\n",
              "    </tr>\n",
              "  </tbody>\n",
              "</table>\n",
              "<p>2469 rows × 3 columns</p>\n",
              "</div>\n",
              "      <button class=\"colab-df-convert\" onclick=\"convertToInteractive('df-d66e89cc-ecf1-470e-9768-60cdb7b3ecd2')\"\n",
              "              title=\"Convert this dataframe to an interactive table.\"\n",
              "              style=\"display:none;\">\n",
              "        \n",
              "  <svg xmlns=\"http://www.w3.org/2000/svg\" height=\"24px\"viewBox=\"0 0 24 24\"\n",
              "       width=\"24px\">\n",
              "    <path d=\"M0 0h24v24H0V0z\" fill=\"none\"/>\n",
              "    <path d=\"M18.56 5.44l.94 2.06.94-2.06 2.06-.94-2.06-.94-.94-2.06-.94 2.06-2.06.94zm-11 1L8.5 8.5l.94-2.06 2.06-.94-2.06-.94L8.5 2.5l-.94 2.06-2.06.94zm10 10l.94 2.06.94-2.06 2.06-.94-2.06-.94-.94-2.06-.94 2.06-2.06.94z\"/><path d=\"M17.41 7.96l-1.37-1.37c-.4-.4-.92-.59-1.43-.59-.52 0-1.04.2-1.43.59L10.3 9.45l-7.72 7.72c-.78.78-.78 2.05 0 2.83L4 21.41c.39.39.9.59 1.41.59.51 0 1.02-.2 1.41-.59l7.78-7.78 2.81-2.81c.8-.78.8-2.07 0-2.86zM5.41 20L4 18.59l7.72-7.72 1.47 1.35L5.41 20z\"/>\n",
              "  </svg>\n",
              "      </button>\n",
              "      \n",
              "  <style>\n",
              "    .colab-df-container {\n",
              "      display:flex;\n",
              "      flex-wrap:wrap;\n",
              "      gap: 12px;\n",
              "    }\n",
              "\n",
              "    .colab-df-convert {\n",
              "      background-color: #E8F0FE;\n",
              "      border: none;\n",
              "      border-radius: 50%;\n",
              "      cursor: pointer;\n",
              "      display: none;\n",
              "      fill: #1967D2;\n",
              "      height: 32px;\n",
              "      padding: 0 0 0 0;\n",
              "      width: 32px;\n",
              "    }\n",
              "\n",
              "    .colab-df-convert:hover {\n",
              "      background-color: #E2EBFA;\n",
              "      box-shadow: 0px 1px 2px rgba(60, 64, 67, 0.3), 0px 1px 3px 1px rgba(60, 64, 67, 0.15);\n",
              "      fill: #174EA6;\n",
              "    }\n",
              "\n",
              "    [theme=dark] .colab-df-convert {\n",
              "      background-color: #3B4455;\n",
              "      fill: #D2E3FC;\n",
              "    }\n",
              "\n",
              "    [theme=dark] .colab-df-convert:hover {\n",
              "      background-color: #434B5C;\n",
              "      box-shadow: 0px 1px 3px 1px rgba(0, 0, 0, 0.15);\n",
              "      filter: drop-shadow(0px 1px 2px rgba(0, 0, 0, 0.3));\n",
              "      fill: #FFFFFF;\n",
              "    }\n",
              "  </style>\n",
              "\n",
              "      <script>\n",
              "        const buttonEl =\n",
              "          document.querySelector('#df-d66e89cc-ecf1-470e-9768-60cdb7b3ecd2 button.colab-df-convert');\n",
              "        buttonEl.style.display =\n",
              "          google.colab.kernel.accessAllowed ? 'block' : 'none';\n",
              "\n",
              "        async function convertToInteractive(key) {\n",
              "          const element = document.querySelector('#df-d66e89cc-ecf1-470e-9768-60cdb7b3ecd2');\n",
              "          const dataTable =\n",
              "            await google.colab.kernel.invokeFunction('convertToInteractive',\n",
              "                                                     [key], {});\n",
              "          if (!dataTable) return;\n",
              "\n",
              "          const docLinkHtml = 'Like what you see? Visit the ' +\n",
              "            '<a target=\"_blank\" href=https://colab.research.google.com/notebooks/data_table.ipynb>data table notebook</a>'\n",
              "            + ' to learn more about interactive tables.';\n",
              "          element.innerHTML = '';\n",
              "          dataTable['output_type'] = 'display_data';\n",
              "          await google.colab.output.renderOutput(dataTable, element);\n",
              "          const docLink = document.createElement('div');\n",
              "          docLink.innerHTML = docLinkHtml;\n",
              "          element.appendChild(docLink);\n",
              "        }\n",
              "      </script>\n",
              "    </div>\n",
              "  </div>\n",
              "  "
            ]
          },
          "metadata": {},
          "execution_count": 8
        }
      ]
    },
    {
      "cell_type": "code",
      "source": [
        "# Creamos un nuevo df agrupado de menor a mayor, dependidendo del nombre del municipio\n",
        "df_grouped = df.groupby(['NOM_ENT','GM_2020'])['NOM_MUN'].count()\n",
        "\n",
        "df_grouped"
      ],
      "metadata": {
        "colab": {
          "base_uri": "https://localhost:8080/"
        },
        "id": "yM9D6_an0nJf",
        "outputId": "12e66851-cfa4-4573-8048-19ea53739e15"
      },
      "execution_count": 9,
      "outputs": [
        {
          "output_type": "execute_result",
          "data": {
            "text/plain": [
              "NOM_ENT              GM_2020 \n",
              "Aguascalientes       Muy bajo    11\n",
              "Baja California      Medio        1\n",
              "                     Muy bajo     5\n",
              "Baja California Sur  Muy bajo     5\n",
              "Campeche             Alto         2\n",
              "                                 ..\n",
              "Yucatán              Muy bajo     7\n",
              "Zacatecas            Alto         2\n",
              "                     Bajo        28\n",
              "                     Medio        5\n",
              "                     Muy bajo    23\n",
              "Name: NOM_MUN, Length: 123, dtype: int64"
            ]
          },
          "metadata": {},
          "execution_count": 9
        }
      ]
    },
    {
      "cell_type": "code",
      "source": [
        "# Ahora convertiremos los valores de cantidad en porcentajes dependiendo\n",
        "# del estado\n",
        "num_munic = df.groupby([\"NOM_ENT\"]).count()[\"CVE_ENT\"].values\n",
        "\n",
        "df_grouped_2 = (df_grouped.groupby(\n",
        "    level=0, group_keys=False).apply(lambda x:100 * x / float(x.sum())).to_frame()\n",
        "    .reset_index()\n",
        ")\n",
        "df_grouped_2"
      ],
      "metadata": {
        "colab": {
          "base_uri": "https://localhost:8080/",
          "height": 424
        },
        "id": "xFiw0gdf4DJX",
        "outputId": "3207f0a4-ddc9-4755-f768-e5f5a4922dc9"
      },
      "execution_count": 10,
      "outputs": [
        {
          "output_type": "execute_result",
          "data": {
            "text/plain": [
              "                 NOM_ENT   GM_2020  NOM_MUN\n",
              "0         Aguascalientes  Muy bajo   100.00\n",
              "1        Baja California     Medio    16.67\n",
              "2        Baja California  Muy bajo    83.33\n",
              "3    Baja California Sur  Muy bajo   100.00\n",
              "4               Campeche      Alto    16.67\n",
              "..                   ...       ...      ...\n",
              "118              Yucatán  Muy bajo     6.60\n",
              "119            Zacatecas      Alto     3.45\n",
              "120            Zacatecas      Bajo    48.28\n",
              "121            Zacatecas     Medio     8.62\n",
              "122            Zacatecas  Muy bajo    39.66\n",
              "\n",
              "[123 rows x 3 columns]"
            ],
            "text/html": [
              "\n",
              "  <div id=\"df-167796bd-a374-4dba-ac90-49d99bd1e47c\">\n",
              "    <div class=\"colab-df-container\">\n",
              "      <div>\n",
              "<style scoped>\n",
              "    .dataframe tbody tr th:only-of-type {\n",
              "        vertical-align: middle;\n",
              "    }\n",
              "\n",
              "    .dataframe tbody tr th {\n",
              "        vertical-align: top;\n",
              "    }\n",
              "\n",
              "    .dataframe thead th {\n",
              "        text-align: right;\n",
              "    }\n",
              "</style>\n",
              "<table border=\"1\" class=\"dataframe\">\n",
              "  <thead>\n",
              "    <tr style=\"text-align: right;\">\n",
              "      <th></th>\n",
              "      <th>NOM_ENT</th>\n",
              "      <th>GM_2020</th>\n",
              "      <th>NOM_MUN</th>\n",
              "    </tr>\n",
              "  </thead>\n",
              "  <tbody>\n",
              "    <tr>\n",
              "      <th>0</th>\n",
              "      <td>Aguascalientes</td>\n",
              "      <td>Muy bajo</td>\n",
              "      <td>100.00</td>\n",
              "    </tr>\n",
              "    <tr>\n",
              "      <th>1</th>\n",
              "      <td>Baja California</td>\n",
              "      <td>Medio</td>\n",
              "      <td>16.67</td>\n",
              "    </tr>\n",
              "    <tr>\n",
              "      <th>2</th>\n",
              "      <td>Baja California</td>\n",
              "      <td>Muy bajo</td>\n",
              "      <td>83.33</td>\n",
              "    </tr>\n",
              "    <tr>\n",
              "      <th>3</th>\n",
              "      <td>Baja California Sur</td>\n",
              "      <td>Muy bajo</td>\n",
              "      <td>100.00</td>\n",
              "    </tr>\n",
              "    <tr>\n",
              "      <th>4</th>\n",
              "      <td>Campeche</td>\n",
              "      <td>Alto</td>\n",
              "      <td>16.67</td>\n",
              "    </tr>\n",
              "    <tr>\n",
              "      <th>...</th>\n",
              "      <td>...</td>\n",
              "      <td>...</td>\n",
              "      <td>...</td>\n",
              "    </tr>\n",
              "    <tr>\n",
              "      <th>118</th>\n",
              "      <td>Yucatán</td>\n",
              "      <td>Muy bajo</td>\n",
              "      <td>6.60</td>\n",
              "    </tr>\n",
              "    <tr>\n",
              "      <th>119</th>\n",
              "      <td>Zacatecas</td>\n",
              "      <td>Alto</td>\n",
              "      <td>3.45</td>\n",
              "    </tr>\n",
              "    <tr>\n",
              "      <th>120</th>\n",
              "      <td>Zacatecas</td>\n",
              "      <td>Bajo</td>\n",
              "      <td>48.28</td>\n",
              "    </tr>\n",
              "    <tr>\n",
              "      <th>121</th>\n",
              "      <td>Zacatecas</td>\n",
              "      <td>Medio</td>\n",
              "      <td>8.62</td>\n",
              "    </tr>\n",
              "    <tr>\n",
              "      <th>122</th>\n",
              "      <td>Zacatecas</td>\n",
              "      <td>Muy bajo</td>\n",
              "      <td>39.66</td>\n",
              "    </tr>\n",
              "  </tbody>\n",
              "</table>\n",
              "<p>123 rows × 3 columns</p>\n",
              "</div>\n",
              "      <button class=\"colab-df-convert\" onclick=\"convertToInteractive('df-167796bd-a374-4dba-ac90-49d99bd1e47c')\"\n",
              "              title=\"Convert this dataframe to an interactive table.\"\n",
              "              style=\"display:none;\">\n",
              "        \n",
              "  <svg xmlns=\"http://www.w3.org/2000/svg\" height=\"24px\"viewBox=\"0 0 24 24\"\n",
              "       width=\"24px\">\n",
              "    <path d=\"M0 0h24v24H0V0z\" fill=\"none\"/>\n",
              "    <path d=\"M18.56 5.44l.94 2.06.94-2.06 2.06-.94-2.06-.94-.94-2.06-.94 2.06-2.06.94zm-11 1L8.5 8.5l.94-2.06 2.06-.94-2.06-.94L8.5 2.5l-.94 2.06-2.06.94zm10 10l.94 2.06.94-2.06 2.06-.94-2.06-.94-.94-2.06-.94 2.06-2.06.94z\"/><path d=\"M17.41 7.96l-1.37-1.37c-.4-.4-.92-.59-1.43-.59-.52 0-1.04.2-1.43.59L10.3 9.45l-7.72 7.72c-.78.78-.78 2.05 0 2.83L4 21.41c.39.39.9.59 1.41.59.51 0 1.02-.2 1.41-.59l7.78-7.78 2.81-2.81c.8-.78.8-2.07 0-2.86zM5.41 20L4 18.59l7.72-7.72 1.47 1.35L5.41 20z\"/>\n",
              "  </svg>\n",
              "      </button>\n",
              "      \n",
              "  <style>\n",
              "    .colab-df-container {\n",
              "      display:flex;\n",
              "      flex-wrap:wrap;\n",
              "      gap: 12px;\n",
              "    }\n",
              "\n",
              "    .colab-df-convert {\n",
              "      background-color: #E8F0FE;\n",
              "      border: none;\n",
              "      border-radius: 50%;\n",
              "      cursor: pointer;\n",
              "      display: none;\n",
              "      fill: #1967D2;\n",
              "      height: 32px;\n",
              "      padding: 0 0 0 0;\n",
              "      width: 32px;\n",
              "    }\n",
              "\n",
              "    .colab-df-convert:hover {\n",
              "      background-color: #E2EBFA;\n",
              "      box-shadow: 0px 1px 2px rgba(60, 64, 67, 0.3), 0px 1px 3px 1px rgba(60, 64, 67, 0.15);\n",
              "      fill: #174EA6;\n",
              "    }\n",
              "\n",
              "    [theme=dark] .colab-df-convert {\n",
              "      background-color: #3B4455;\n",
              "      fill: #D2E3FC;\n",
              "    }\n",
              "\n",
              "    [theme=dark] .colab-df-convert:hover {\n",
              "      background-color: #434B5C;\n",
              "      box-shadow: 0px 1px 3px 1px rgba(0, 0, 0, 0.15);\n",
              "      filter: drop-shadow(0px 1px 2px rgba(0, 0, 0, 0.3));\n",
              "      fill: #FFFFFF;\n",
              "    }\n",
              "  </style>\n",
              "\n",
              "      <script>\n",
              "        const buttonEl =\n",
              "          document.querySelector('#df-167796bd-a374-4dba-ac90-49d99bd1e47c button.colab-df-convert');\n",
              "        buttonEl.style.display =\n",
              "          google.colab.kernel.accessAllowed ? 'block' : 'none';\n",
              "\n",
              "        async function convertToInteractive(key) {\n",
              "          const element = document.querySelector('#df-167796bd-a374-4dba-ac90-49d99bd1e47c');\n",
              "          const dataTable =\n",
              "            await google.colab.kernel.invokeFunction('convertToInteractive',\n",
              "                                                     [key], {});\n",
              "          if (!dataTable) return;\n",
              "\n",
              "          const docLinkHtml = 'Like what you see? Visit the ' +\n",
              "            '<a target=\"_blank\" href=https://colab.research.google.com/notebooks/data_table.ipynb>data table notebook</a>'\n",
              "            + ' to learn more about interactive tables.';\n",
              "          element.innerHTML = '';\n",
              "          dataTable['output_type'] = 'display_data';\n",
              "          await google.colab.output.renderOutput(dataTable, element);\n",
              "          const docLink = document.createElement('div');\n",
              "          docLink.innerHTML = docLinkHtml;\n",
              "          element.appendChild(docLink);\n",
              "        }\n",
              "      </script>\n",
              "    </div>\n",
              "  </div>\n",
              "  "
            ]
          },
          "metadata": {},
          "execution_count": 10
        }
      ]
    },
    {
      "cell_type": "code",
      "source": [
        "# Renombramos columnas para mayor legibilidad\n",
        "df_grouped_2 = df_grouped_2.rename(columns={'NOM_ENT': \"Estado\", \"NOM_MUN\": \"Porcentaje\", \"GM_2020\": \"Grado_Marginacion\"})\n",
        "df_grouped_2"
      ],
      "metadata": {
        "colab": {
          "base_uri": "https://localhost:8080/",
          "height": 424
        },
        "id": "S2WnvIKD17oe",
        "outputId": "be18be24-7448-4bfc-f058-6e66e8efd5f3"
      },
      "execution_count": 11,
      "outputs": [
        {
          "output_type": "execute_result",
          "data": {
            "text/plain": [
              "                  Estado Grado_Marginacion  Porcentaje\n",
              "0         Aguascalientes          Muy bajo      100.00\n",
              "1        Baja California             Medio       16.67\n",
              "2        Baja California          Muy bajo       83.33\n",
              "3    Baja California Sur          Muy bajo      100.00\n",
              "4               Campeche              Alto       16.67\n",
              "..                   ...               ...         ...\n",
              "118              Yucatán          Muy bajo        6.60\n",
              "119            Zacatecas              Alto        3.45\n",
              "120            Zacatecas              Bajo       48.28\n",
              "121            Zacatecas             Medio        8.62\n",
              "122            Zacatecas          Muy bajo       39.66\n",
              "\n",
              "[123 rows x 3 columns]"
            ],
            "text/html": [
              "\n",
              "  <div id=\"df-926cba57-cec0-42c3-95f6-54f1b1746011\">\n",
              "    <div class=\"colab-df-container\">\n",
              "      <div>\n",
              "<style scoped>\n",
              "    .dataframe tbody tr th:only-of-type {\n",
              "        vertical-align: middle;\n",
              "    }\n",
              "\n",
              "    .dataframe tbody tr th {\n",
              "        vertical-align: top;\n",
              "    }\n",
              "\n",
              "    .dataframe thead th {\n",
              "        text-align: right;\n",
              "    }\n",
              "</style>\n",
              "<table border=\"1\" class=\"dataframe\">\n",
              "  <thead>\n",
              "    <tr style=\"text-align: right;\">\n",
              "      <th></th>\n",
              "      <th>Estado</th>\n",
              "      <th>Grado_Marginacion</th>\n",
              "      <th>Porcentaje</th>\n",
              "    </tr>\n",
              "  </thead>\n",
              "  <tbody>\n",
              "    <tr>\n",
              "      <th>0</th>\n",
              "      <td>Aguascalientes</td>\n",
              "      <td>Muy bajo</td>\n",
              "      <td>100.00</td>\n",
              "    </tr>\n",
              "    <tr>\n",
              "      <th>1</th>\n",
              "      <td>Baja California</td>\n",
              "      <td>Medio</td>\n",
              "      <td>16.67</td>\n",
              "    </tr>\n",
              "    <tr>\n",
              "      <th>2</th>\n",
              "      <td>Baja California</td>\n",
              "      <td>Muy bajo</td>\n",
              "      <td>83.33</td>\n",
              "    </tr>\n",
              "    <tr>\n",
              "      <th>3</th>\n",
              "      <td>Baja California Sur</td>\n",
              "      <td>Muy bajo</td>\n",
              "      <td>100.00</td>\n",
              "    </tr>\n",
              "    <tr>\n",
              "      <th>4</th>\n",
              "      <td>Campeche</td>\n",
              "      <td>Alto</td>\n",
              "      <td>16.67</td>\n",
              "    </tr>\n",
              "    <tr>\n",
              "      <th>...</th>\n",
              "      <td>...</td>\n",
              "      <td>...</td>\n",
              "      <td>...</td>\n",
              "    </tr>\n",
              "    <tr>\n",
              "      <th>118</th>\n",
              "      <td>Yucatán</td>\n",
              "      <td>Muy bajo</td>\n",
              "      <td>6.60</td>\n",
              "    </tr>\n",
              "    <tr>\n",
              "      <th>119</th>\n",
              "      <td>Zacatecas</td>\n",
              "      <td>Alto</td>\n",
              "      <td>3.45</td>\n",
              "    </tr>\n",
              "    <tr>\n",
              "      <th>120</th>\n",
              "      <td>Zacatecas</td>\n",
              "      <td>Bajo</td>\n",
              "      <td>48.28</td>\n",
              "    </tr>\n",
              "    <tr>\n",
              "      <th>121</th>\n",
              "      <td>Zacatecas</td>\n",
              "      <td>Medio</td>\n",
              "      <td>8.62</td>\n",
              "    </tr>\n",
              "    <tr>\n",
              "      <th>122</th>\n",
              "      <td>Zacatecas</td>\n",
              "      <td>Muy bajo</td>\n",
              "      <td>39.66</td>\n",
              "    </tr>\n",
              "  </tbody>\n",
              "</table>\n",
              "<p>123 rows × 3 columns</p>\n",
              "</div>\n",
              "      <button class=\"colab-df-convert\" onclick=\"convertToInteractive('df-926cba57-cec0-42c3-95f6-54f1b1746011')\"\n",
              "              title=\"Convert this dataframe to an interactive table.\"\n",
              "              style=\"display:none;\">\n",
              "        \n",
              "  <svg xmlns=\"http://www.w3.org/2000/svg\" height=\"24px\"viewBox=\"0 0 24 24\"\n",
              "       width=\"24px\">\n",
              "    <path d=\"M0 0h24v24H0V0z\" fill=\"none\"/>\n",
              "    <path d=\"M18.56 5.44l.94 2.06.94-2.06 2.06-.94-2.06-.94-.94-2.06-.94 2.06-2.06.94zm-11 1L8.5 8.5l.94-2.06 2.06-.94-2.06-.94L8.5 2.5l-.94 2.06-2.06.94zm10 10l.94 2.06.94-2.06 2.06-.94-2.06-.94-.94-2.06-.94 2.06-2.06.94z\"/><path d=\"M17.41 7.96l-1.37-1.37c-.4-.4-.92-.59-1.43-.59-.52 0-1.04.2-1.43.59L10.3 9.45l-7.72 7.72c-.78.78-.78 2.05 0 2.83L4 21.41c.39.39.9.59 1.41.59.51 0 1.02-.2 1.41-.59l7.78-7.78 2.81-2.81c.8-.78.8-2.07 0-2.86zM5.41 20L4 18.59l7.72-7.72 1.47 1.35L5.41 20z\"/>\n",
              "  </svg>\n",
              "      </button>\n",
              "      \n",
              "  <style>\n",
              "    .colab-df-container {\n",
              "      display:flex;\n",
              "      flex-wrap:wrap;\n",
              "      gap: 12px;\n",
              "    }\n",
              "\n",
              "    .colab-df-convert {\n",
              "      background-color: #E8F0FE;\n",
              "      border: none;\n",
              "      border-radius: 50%;\n",
              "      cursor: pointer;\n",
              "      display: none;\n",
              "      fill: #1967D2;\n",
              "      height: 32px;\n",
              "      padding: 0 0 0 0;\n",
              "      width: 32px;\n",
              "    }\n",
              "\n",
              "    .colab-df-convert:hover {\n",
              "      background-color: #E2EBFA;\n",
              "      box-shadow: 0px 1px 2px rgba(60, 64, 67, 0.3), 0px 1px 3px 1px rgba(60, 64, 67, 0.15);\n",
              "      fill: #174EA6;\n",
              "    }\n",
              "\n",
              "    [theme=dark] .colab-df-convert {\n",
              "      background-color: #3B4455;\n",
              "      fill: #D2E3FC;\n",
              "    }\n",
              "\n",
              "    [theme=dark] .colab-df-convert:hover {\n",
              "      background-color: #434B5C;\n",
              "      box-shadow: 0px 1px 3px 1px rgba(0, 0, 0, 0.15);\n",
              "      filter: drop-shadow(0px 1px 2px rgba(0, 0, 0, 0.3));\n",
              "      fill: #FFFFFF;\n",
              "    }\n",
              "  </style>\n",
              "\n",
              "      <script>\n",
              "        const buttonEl =\n",
              "          document.querySelector('#df-926cba57-cec0-42c3-95f6-54f1b1746011 button.colab-df-convert');\n",
              "        buttonEl.style.display =\n",
              "          google.colab.kernel.accessAllowed ? 'block' : 'none';\n",
              "\n",
              "        async function convertToInteractive(key) {\n",
              "          const element = document.querySelector('#df-926cba57-cec0-42c3-95f6-54f1b1746011');\n",
              "          const dataTable =\n",
              "            await google.colab.kernel.invokeFunction('convertToInteractive',\n",
              "                                                     [key], {});\n",
              "          if (!dataTable) return;\n",
              "\n",
              "          const docLinkHtml = 'Like what you see? Visit the ' +\n",
              "            '<a target=\"_blank\" href=https://colab.research.google.com/notebooks/data_table.ipynb>data table notebook</a>'\n",
              "            + ' to learn more about interactive tables.';\n",
              "          element.innerHTML = '';\n",
              "          dataTable['output_type'] = 'display_data';\n",
              "          await google.colab.output.renderOutput(dataTable, element);\n",
              "          const docLink = document.createElement('div');\n",
              "          docLink.innerHTML = docLinkHtml;\n",
              "          element.appendChild(docLink);\n",
              "        }\n",
              "      </script>\n",
              "    </div>\n",
              "  </div>\n",
              "  "
            ]
          },
          "metadata": {},
          "execution_count": 11
        }
      ]
    },
    {
      "cell_type": "markdown",
      "source": [
        "Teniendo ya la estructura de la tabla que queremos graficar, vayamos a crearla"
      ],
      "metadata": {
        "id": "Tcbft0G68fvx"
      }
    },
    {
      "cell_type": "code",
      "source": [
        "# Primero declaremos algunas variables para las etiquetas\n",
        "estados = df_grouped_2['Estado'].unique()\n",
        "niveles_marginacion = df_grouped_2['Grado_Marginacion'].unique()\n",
        "\n",
        "# Creamos el lienzo\n",
        "fig, ax = plt.subplots()\n",
        "g = sns.barplot(\n",
        "    x = 'Estado', \n",
        "    y = 'Porcentaje',\n",
        "    hue = 'Grado_Marginacion',\n",
        "    data = df_grouped_2,\n",
        "    hue_order = niveles_marginacion[::-1],\n",
        "    palette='rocket',\n",
        "    ax = ax)\n",
        "\n",
        "# Configuramos el grafico\n",
        "fig.set_size_inches(20,10)\n",
        "ax.set_xticks(range(len(estados)))\n",
        "ax.set_xlabel(\"Estado\", fontsize=15)\n",
        "ax.set_ylabel(\"Porcentaje (%)\", fontsize=15)\n",
        "ax.set_xticklabels(estados, rotation=90, fontsize=10)\n",
        "ax.set_title('Porcentaje de Municipios con niveles de marginación')\n",
        "ax.legend()\n",
        "\n",
        "#Guaramos la figura \n",
        "plt.savefig(\"porcentaje_municipios_por_nivel_marginacion.png\")\n",
        "\n",
        "plt.show()"
      ],
      "metadata": {
        "colab": {
          "base_uri": "https://localhost:8080/"
        },
        "id": "9Hp5iuGx86H4",
        "outputId": "4e707087-39ed-4fbc-e4a2-0409533b0eee"
      },
      "execution_count": null,
      "outputs": [
        {
          "output_type": "display_data",
          "data": {
            "text/plain": [
              "<Figure size 2000x1000 with 1 Axes>"
            ],
            "image/png": "[encoded data removed]"
          },
          "metadata": {}
        }
      ]
    },
    {
      "cell_type": "markdown",
      "source": [
        "# Gráfica de Porcentaje de Población, respecto a la Población Total de Estado"
      ],
      "metadata": {
        "id": "zm_hb54OGoJt"
      }
    },
    {
      "cell_type": "markdown",
      "source": [
        "Ahora realizaremos una gráfica que muestre el porcentaje de la población, respecto a la **población total** de cada estado, con índices de marginación.\n",
        "\n",
        "Para esto, agruparemos por estado y grado de marginación, y después vamos a realizar la suma total por cada estado."
      ],
      "metadata": {
        "id": "wirVFfZmHKGl"
      }
    },
    {
      "cell_type": "code",
      "source": [
        "# Primero veremos las columnas con las que vamos a trabajar\n",
        "df[['NOM_ENT', 'GM_2020', 'POB_TOT']]"
      ],
      "metadata": {
        "id": "uXTJ7EKxAl_h"
      },
      "execution_count": null,
      "outputs": []
    },
    {
      "cell_type": "code",
      "source": [
        "# Agrupamos por entidad y grado de marginación, pero ahora en vez de un count() realizamos\n",
        "# un sum() sobre la poblacion total (POB_TOT)\n",
        "\n",
        "df_grouped_pob = df.groupby(['NOM_ENT','GM_2020'])['POB_TOT'].sum()\n",
        "\n",
        "df_grouped_pob"
      ],
      "metadata": {
        "id": "ZMKUtQgQN_jd"
      },
      "execution_count": null,
      "outputs": []
    },
    {
      "cell_type": "code",
      "source": [
        "# Ahora convertiremos los valores de cantidad en porcentajes dependiendo\n",
        "# del estado\n",
        "num_munic = df.groupby([\"NOM_ENT\"]).count()[\"CVE_ENT\"].values\n",
        "\n",
        "df_grouped_pob2 = (df_grouped_pob.groupby(\n",
        "    level=0, group_keys=False).apply(lambda x:100 * x / float(x.sum())).to_frame()\n",
        "    .reset_index()\n",
        ")\n",
        "df_grouped_pob2"
      ],
      "metadata": {
        "id": "3ocDXwF_OrHc"
      },
      "execution_count": null,
      "outputs": []
    },
    {
      "cell_type": "code",
      "source": [
        "# Renombramos columnas para mayor legibilidad\n",
        "df_grouped_pob2 = df_grouped_pob2.rename(columns={'NOM_ENT': \"Estado\", \"POB_TOT\": \"Porcentaje_Pob\", \"GM_2020\": \"Grado_Marginacion\"})\n",
        "df_grouped_pob2"
      ],
      "metadata": {
        "id": "AaMbEoUlbZhu"
      },
      "execution_count": null,
      "outputs": []
    },
    {
      "cell_type": "markdown",
      "source": [
        "Teniendo ya la estructura del dataset, vamos a graficar los datos"
      ],
      "metadata": {
        "id": "yG-rkjXpboNW"
      }
    },
    {
      "cell_type": "code",
      "source": [
        "# Primero declaremos algunas variables para las etiquetas\n",
        "estados = df_grouped_pob2['Estado'].unique()\n",
        "niveles_marginacion = df_grouped_pob2['Grado_Marginacion'].unique()\n",
        "\n",
        "# Creamos el lienzo\n",
        "fig, ax = plt.subplots()\n",
        "g = sns.barplot(\n",
        "    x = 'Estado', \n",
        "    y = 'Porcentaje_Pob',\n",
        "    hue = 'Grado_Marginacion',\n",
        "    data = df_grouped_pob2,\n",
        "    hue_order = niveles_marginacion,\n",
        "    palette='crest',\n",
        "    ax = ax)\n",
        "\n",
        "# Configuramos el grafico\n",
        "fig.set_size_inches(20,10)\n",
        "ax.set_xticks(range(len(estados)))\n",
        "ax.set_xlabel(\"Estado\", fontsize=15)\n",
        "ax.set_ylabel(\"Porcentaje (%)\", fontsize=15)\n",
        "ax.set_xticklabels(estados, rotation=90, fontsize=10)\n",
        "ax.set_title('Porcentaje de Población por Entidad con niveles de marginación')\n",
        "ax.legend()\n",
        "\n",
        "#Guaramos la figura \n",
        "plt.savefig(\"porcentaje_poblacion_por_nivel_marginacion.png\")\n",
        "\n",
        "plt.show()"
      ],
      "metadata": {
        "id": "F_W_eZcWbuP3"
      },
      "execution_count": null,
      "outputs": []
    },
    {
      "cell_type": "markdown",
      "source": [
        "En principio, parecen iguales, pero si vemos detalladamente vemos algunas diferencias como que se aprecia que hay ciertos estados con bajo nivel de marginación si nos vamos a población, pero si nos vamos a municipios, tienen niveles de marginación alta (como Morelos, Sinaloa o Zacatecas).\n",
        "\n",
        "En Chihuahua, si nos vamos por municipio, la mitad tienen baja marginación, pero en proporción con la población, es un cantidad de personas muy altas las que viven de esa manera.\n",
        "\n",
        "Pueden existir varios estados donde se concentra muchas personas con relativamente baja marginación, pero que contenga municipios con alta migración.\n"
      ],
      "metadata": {
        "id": "uOjfFP55dVGs"
      }
    },
    {
      "cell_type": "markdown",
      "source": [
        "## Gráfica de relación entre Alfabetismo respecto a poblaciones de localidades de menos de 5 mil habitantes"
      ],
      "metadata": {
        "id": "Cmy3KYL1ftA2"
      }
    },
    {
      "cell_type": "markdown",
      "source": [
        "Para realizar esto, haremos un diagrama de dispersión"
      ],
      "metadata": {
        "id": "9JNwHiylgPT8"
      }
    },
    {
      "cell_type": "code",
      "source": [
        "fig, ax = plt.subplots()\n",
        "\n",
        "sns.scatterplot(x='PL.5000', y='ANALF', data=df)\n",
        "\n",
        "ax.set_ylabel(df_dict.loc['ANALF'].item())\n",
        "ax.set_xlabel(df_dict.loc['PL.5000'].item())\n",
        "\n",
        "\n",
        "plt.show()"
      ],
      "metadata": {
        "id": "hVBEnlJEf8HH"
      },
      "execution_count": null,
      "outputs": []
    },
    {
      "cell_type": "markdown",
      "source": [
        "## Relación e identificación de variables de correlación"
      ],
      "metadata": {
        "id": "ooZcoJpfhOt2"
      }
    },
    {
      "cell_type": "markdown",
      "source": [
        "¿Existe una relación? ¿Cómo podrías analizar con que variable tiene más corelación el porcentaje de analfabetismo en personas mayores de 15 años?\n",
        "\n",
        "\n",
        "Se puede apreciar que la relación entre las dos variables es débil. Los puntos se encuentran bastante dispersos. Los puntos sobre el lado derecho de la gráfica indican que en municipios poco poblados, el porcentaje de menos de 5000 habitantes es el 100 %\n",
        "\n",
        "Para analizar las variables con las se correlacionan, podemos utilizar el método `corr()`\n"
      ],
      "metadata": {
        "id": "RodQBMJNhqzg"
      }
    },
    {
      "cell_type": "code",
      "source": [
        "# Eliminamos las dos primeras columnas, ya que no son relevantes ni numéricas\n",
        "correlation = df.drop(['CVE_ENT', 'CVE_MUN'], axis='columns').corr(numeric_only=True) \n",
        "\n",
        "correlation"
      ],
      "metadata": {
        "id": "Q5OmhnJEfsVi"
      },
      "execution_count": null,
      "outputs": []
    },
    {
      "cell_type": "markdown",
      "source": [
        "Si nos fijamos en la fila (o columna) *ANALF*, observamos que:\n",
        "\n",
        "- A mayor analfabetización, mayor personas sin educación básica.\n",
        "- También se relaciona con las viviendas particulares con piso de tierra de manera positiva.\n",
        "- Tiene una correlación positiva con el porcentaje de vivientas particulares con hacinamiento.\n",
        "- Tiene una corelación negativa con el Indice de Marginalización y el Índice de Marginalización Normalizado."
      ],
      "metadata": {
        "id": "au-K_QHij0ZR"
      }
    },
    {
      "cell_type": "markdown",
      "source": [
        "## Generar nuevos indicadores"
      ],
      "metadata": {
        "id": "KXzfXxhAl6ZK"
      }
    },
    {
      "cell_type": "markdown",
      "source": [
        "¿Se pueden gemerar nuevos indicadores a partir de los anteriores?"
      ],
      "metadata": {
        "id": "g6p4Mvk7mBHJ"
      }
    },
    {
      "cell_type": "code",
      "source": [
        "# Veamos el dataframe original nuevamente\n",
        "df"
      ],
      "metadata": {
        "id": "rIdZ98MQmIMY"
      },
      "execution_count": null,
      "outputs": []
    },
    {
      "cell_type": "code",
      "source": [
        "df.describe()"
      ],
      "metadata": {
        "id": "pnnih8VumQ3n"
      },
      "execution_count": null,
      "outputs": []
    },
    {
      "cell_type": "markdown",
      "source": [
        "Podemos crear nuevas columnas a partir de otras, como encontrar algunas métricas de acuerdo a la población total o de acuerdo a medidas de tendencia central, como por ejemplo:"
      ],
      "metadata": {
        "id": "ALoiC5DbniJD"
      }
    },
    {
      "cell_type": "code",
      "source": [
        "# Obtener la media para las columnas ANALF, SBASC, VHAC, PO2SM\n",
        "\n",
        "dict_mean = {}\n",
        "for column in ['ANALF', 'SBASC', 'OVSDE', 'VHAC', 'PO2SM','PL.5000']:\n",
        "  dict_mean[column+\"_MEAN\"] = df[column].mean()\n",
        "\n",
        "dict_mean"
      ],
      "metadata": {
        "id": "PFSe-N1poOII"
      },
      "execution_count": null,
      "outputs": []
    },
    {
      "cell_type": "markdown",
      "source": [
        "Podemos crear un nuevo df con los datos de acuerdo a poblaciones, multiplicando los valores y dividiendolos para sacar el valor relativo"
      ],
      "metadata": {
        "id": "d2KdSwj6oz5o"
      }
    },
    {
      "cell_type": "code",
      "source": [
        "new_df = pd.DataFrame()\n",
        "\n",
        "new_df['ESTADO'] = df['NOM_ENT'].unique()\n",
        "\n",
        "new_df"
      ],
      "metadata": {
        "id": "SEY5bXdxpNgR"
      },
      "execution_count": null,
      "outputs": []
    },
    {
      "cell_type": "code",
      "source": [
        "for column in ['ANALF', 'SBASC', 'OVSDE', 'VHAC', 'PO2SM','PL.5000']:\n",
        "  new_df['POB_' + column] = df['POB_TOT'] * df[column] / 100\n",
        "\n",
        "new_df.head()"
      ],
      "metadata": {
        "id": "wIRTghXBpXCD"
      },
      "execution_count": null,
      "outputs": []
    },
    {
      "cell_type": "markdown",
      "source": [
        "Incluso podemos hacer varias cosas, como sacar los estados con porcentajes mas marginados y crear otra columna para eso. En general, todo esto se pued ir desarrollando más y mas."
      ],
      "metadata": {
        "id": "3BG7fTLZqCoZ"
      }
    },
    {
      "cell_type": "markdown",
      "source": [
        "## Generación de archivo parquet"
      ],
      "metadata": {
        "id": "f0pWAza6qQ8t"
      }
    },
    {
      "cell_type": "markdown",
      "source": [
        "Para concluir, guardemos nuestro nuevo dataframe en un archivo parquet"
      ],
      "metadata": {
        "id": "hbh9fZX1qVGJ"
      }
    },
    {
      "cell_type": "code",
      "source": [
        "new_df.to_parquet(\"new_pob_df.parquet\")"
      ],
      "metadata": {
        "id": "2YhFbBg_qhdR"
      },
      "execution_count": null,
      "outputs": []
    }
  ]
}